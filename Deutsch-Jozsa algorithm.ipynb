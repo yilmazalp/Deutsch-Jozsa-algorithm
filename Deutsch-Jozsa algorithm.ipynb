{
 "cells": [
  {
   "cell_type": "markdown",
   "id": "caa8214e-f371-4166-a9c6-8e802bca0e34",
   "metadata": {},
   "source": [
    "# Deutsch-Jozsa Algorithm\n",
    "\n",
    "These notes introduces Deutsch-Jozsa algorithm, which is one of the most important quantum algorithms. We prepare this document in the context of these concepts: \n",
    "\n",
    "- Deutsch algorithm\n",
    "- Unitary functions\n",
    "- Algorithm and complexity\n",
    "- Deutsch-Jozsa algorithm"
   ]
  },
  {
   "cell_type": "markdown",
   "id": "449ab94f-eb6a-41db-99d6-9114383901a1",
   "metadata": {},
   "source": [
    "## Deutsch algorithm\n",
    "\n",
    "The aim of the Deutsch algorithm is to find whether a given function is **constant** or **balanced**. Before explaining the algorithm, let's introduce the definitions of constant and balanced function. \n",
    "\n",
    "Let $f: \\{0,1\\} \\longrightarrow \\{0,1\\}$ be a function defined by $f(x) = y$ for all $x,y \\in \\mathbb{Z}_{2}$. If $f(0) = f(1) = 0$ or $f(0) = f(1) = 1$, then $f$ is called *constant*. If the output of the function is different; which means if $f(0) = 1$ and $f(1) = 0$ or $f(0) = 0$ and $f(1) = 1$, then we call the function is *balanced*. Our goal is to determine whether the function is balanced or constant. \n"
   ]
  },
  {
   "cell_type": "markdown",
   "id": "d747d44d-0f3a-451e-9a37-b81547b7dca8",
   "metadata": {},
   "source": [
    "#### How do we solve the algorithm using classical computers? \n",
    "\n",
    "Note that we have four possible cases:\n",
    "\n",
    "1. $f(0)=f(1)= 0$\n",
    "2. $f(0)=f(1)= 1$\n",
    "3. $f(0)=0, f(1)=1$\n",
    "4. $f(0)=1, f(1)=0$\n",
    "\n",
    "Clearly, classical computers need $2$ queries to achieve the solution: we examine the $f(0)$, which makes we have $1$ query. In the second query, we investigate $f(1)$. If $f(0)=f(1)$, $f$ is constant; otherwise $f$ is balanced. "
   ]
  },
  {
   "cell_type": "markdown",
   "id": "ab0bb746-0970-462c-a977-09a822ec0675",
   "metadata": {},
   "source": [
    "```\n",
    "if f(0) = 0:\n",
    "\tif f(1) = 0:\n",
    "\t\tprint(\"Constant\")\n",
    "\telse: \n",
    "\t\tprint(\"Balanced\")\n",
    "else:\n",
    "\tif f(1) = 0:\n",
    "\t\tprint(\"Balanced\")\n",
    "\telse: \n",
    "\t\tprint(\"Constant\")\n",
    "```"
   ]
  },
  {
   "cell_type": "markdown",
   "id": "b63bc9eb-1dd6-4bb9-b9d5-93f4b1285a76",
   "metadata": {},
   "source": [
    "#### How do quantum computers solve the algorithm?\n",
    "\n",
    "Quantum computers requires only $1$ query to find that the function is balanced or constant. We will provide a quantum circuit which implements this algorithm in one query. \n",
    "\n",
    "The quantum circuit of Deutsch algorithm consists of a two-qubit unitary gate and the Hadamard gates. "
   ]
  },
  {
   "cell_type": "markdown",
   "id": "d92adec0-e6b3-4683-816d-e5181b88c2e1",
   "metadata": {},
   "source": [
    "![title](Images/deutsch-circuit-2.png)"
   ]
  },
  {
   "cell_type": "markdown",
   "id": "29fe1a4d-dae4-4c05-8f72-c6e1c565d868",
   "metadata": {},
   "source": [
    "##### Two Hadamard gates\n",
    "\n",
    "\n",
    "After initializing the state $\\ket{\\psi_{0}}=\\ket{01}$, we act the two Hadamard gates to the two qubits: $\\ket{\\psi_{1}}=H\\ket{0} \\otimes H\\ket{1}$. The state we have obtained is expressed as the product of Hadamard basis elements, which means $\\ket{\\psi_{1}}=\\ket{+} \\otimes \\ket{-}$. So, we can express the state $\\ket{\\psi}_{1}$ as follows, \n",
    "\n",
    "\\\n",
    "\\begin{align*}\n",
    "    \\ket{\\psi_{1}} &= (\\frac{\\ket{0} + \\ket{1}}{\\sqrt{2}})( \\frac{\\ket{0} - \\ket{1}}{\\sqrt{2}})\\\\\\\\\n",
    "                   &= \\frac{1}{2}(\\ket{00} - \\ket{01} + \\ket{10} - \\ket{11})\n",
    "\\end{align*}\n",
    "\\\n",
    "which is the superposition state, because the norm is $1 : (\\frac{1}{2})^{2} + (\\frac{1}{2})^{2} + (\\frac{1}{2})^{2} + (\\frac{1}{2})^{2} = 1$"
   ]
  },
  {
   "cell_type": "markdown",
   "id": "1c0b98a8-22b7-49c4-a5d9-dc12ca3ff3dd",
   "metadata": {},
   "source": [
    "##### The unitary function\n",
    "\n",
    "The unitary function is defined as $U_{f}=(-1)^{f(x)}$. Applying the unitary function to the state $\\ket{\\psi_{1}}$, we obtain that\n",
    "\n",
    "\\\n",
    "\\begin{align*}\n",
    "    U_{f}\\ket{\\psi_{1}} &= (\\frac{U_{f}\\ket{0} + U_{f}\\ket{1}}{\\sqrt{2}})(U_{f}\\ket{-})\\\\\\\\\n",
    "                        &= \\frac{1}{\\sqrt{2}}((-1)^{f(x)}\\ket{0} + (-1)^{f(x)}\\ket{1})(U_{f}\\ket{-})\\\\\n",
    "\\end{align*}\n"
   ]
  },
  {
   "cell_type": "markdown",
   "id": "55a54375-c19b-42a3-afa8-a39d4992a43b",
   "metadata": {},
   "source": [
    "So, if $f(0)=f(1)=0$, then $$\\ket{\\psi_{2}}= \\frac{1}{\\sqrt{2}}(\\ket{0} + \\ket{1})(U_{f}\\ket{-})$$ \n",
    "If $f(0)=f(1)=1$, then $$\\ket{\\psi_{2}}= \\frac{1}{\\sqrt{2}}(-\\ket{0} - \\ket{1})(U_{f}\\ket{-})$$ It follows that if the function $f$ is constant, the state can be expressed as $$\\ket{\\psi_{2}} = \\pm\\ket{+}U_{f}\\ket{-}$$"
   ]
  },
  {
   "cell_type": "markdown",
   "id": "bab4e353-08f1-4e86-ab39-ced7af21eac8",
   "metadata": {},
   "source": [
    "Let us view the other case: $f$ is balanced. We have two subcases here as well. \n",
    "\n",
    "If $f(0)=0 \\text{ and } f(1)=1$, then \n",
    "$$\\ket{\\psi_{2}}= \\frac{1}{\\sqrt{2}}(\\ket{0} - \\ket{1})(U_{f}\\ket{-})$$. If $f(0)=1 \\text{ and } f(1)=0$, then \n",
    "$$\\ket{\\psi_{2}}= \\frac{1}{\\sqrt{2}}(-\\ket{0} + \\ket{1})(U_{f}\\ket{-})$$. Therefore, if the function is balanced, the state is $$\\ket{\\psi_{2}} = \\pm\\ket{-}U_{f}\\ket{-}$$"
   ]
  },
  {
   "cell_type": "markdown",
   "id": "43c5247b-04b0-44c1-b687-0f07264101d9",
   "metadata": {},
   "source": [
    "##### Applying the Hadamard gate to the first qubit\n",
    "\n",
    "\n",
    "The state $\\ket{\\psi_{3}}$ is obtained by applying the Hadamard gate to the first qubit. Remind that Hadamard gate converts the Hadamard basis into the computational basis. It means that $$ H\\ket{+}=\\ket{0}$$ $$H\\ket{-}=\\ket{1}$$ If the function is constant, then the state $\\ket{\\psi_{3}}$ can be written as $$ \\ket{\\psi_{3}}=\\pm H\\ket{+}U_{f}\\ket{-} = \\pm \\ket{0}U_{f}\\ket{-} $$ Otherwise, the state will be $$ \\ket{\\psi_{3}}=\\pm H\\ket{-}U_{f}\\ket{-} = \\pm \\ket{1}U_{f}\\ket{-} $$"
   ]
  },
  {
   "cell_type": "markdown",
   "id": "be6de58b-3e4a-4495-9cdd-5a7cf40d3b2e",
   "metadata": {},
   "source": [
    "##### Measuring the first qubit\n",
    "\n",
    "\n",
    "At the final stage, we measure the first qubit. After the measurement on the first qubit of the $\\ket{\\psi_{3}}$, the constant function gives the outcome $\\ket{0}$, while we obtain $\\ket{1}$ when $f$ is a balanced function. \n",
    "\n",
    "More precisely, if we measure the state $\\ket{0}$, we conclude that the function $f$ is constant. In the case of measuring the state $\\ket{1}$, it follows that the function $f$ is balanced. "
   ]
  },
  {
   "cell_type": "markdown",
   "id": "762f0ac1-40da-4419-8280-43141bda1ad1",
   "metadata": {},
   "source": [
    "## Deutsch-Jozsa algorithm\n",
    "\n",
    "In the Deutsch algorithm, we worked on two qubits. Now, we will investigate the *Deutsch-Jozsa algorithm*, an extension of the Deutsch algorithm to the circuits with multiple qubits. "
   ]
  },
  {
   "cell_type": "markdown",
   "id": "c77932aa-b8dc-4324-91e9-cfbc6687c450",
   "metadata": {},
   "source": [
    "Our problem is same but the domain is different: given a function $$f: \\{0,1\\}^{n} \\rightarrow \\{0,1\\}$$ we desire to determine the function is constant or balanced where $n$ is a nonnegative integer. "
   ]
  },
  {
   "cell_type": "markdown",
   "id": "6581c80a-aa49-4b3a-a606-680f3261d07b",
   "metadata": {},
   "source": [
    "##### Definition of the problem\n",
    "\n",
    "The function $f$ is called **constant**, if the output is same for all the possible input values. \n",
    "\n",
    "The function $f$ is called **balanced**, if the output $f(x)=0$ for half of the possible inputs, and $f(x)=1$ for the other half where $x \\in \\{0,1\\}^{n}$. The combination of function outputs does not matter. \n",
    "\n",
    "Note that we are promised the function is either constant or balanced."
   ]
  },
  {
   "cell_type": "markdown",
   "id": "b306d3d0-33c8-4ed7-a54e-bd04cb7c8209",
   "metadata": {},
   "source": [
    "![title](Images/dj-constant-and-balanced.png)"
   ]
  },
  {
   "cell_type": "markdown",
   "id": "019e0ca2-77ca-4d7c-b730-5949cb359771",
   "metadata": {},
   "source": [
    "##### Example\n",
    "\n",
    "\n",
    "Let us explain the problem through an example. Given a function $f: \\{0,1\\}^{3} \\rightarrow \\{0,1\\}$, there are two cases and $2^{3}=8$ outcomes for each subcases. \n",
    "\n",
    "The first case is that the function is constant, which means all of the eight outcomes are $0$ or $1$. \n",
    "\n",
    "The second case says that a balanced function follows that if four outcomes are $1$, the other four must be $0$, or vice versa."
   ]
  },
  {
   "cell_type": "markdown",
   "id": "dc96f246-7eb2-44be-980a-58c9bcad87c8",
   "metadata": {},
   "source": [
    "Let $f$ be a constant function. Then the possible outcomes can be illustrated as follows,\n",
    "\n",
    "![title](Images/constant-function.png)"
   ]
  },
  {
   "cell_type": "markdown",
   "id": "70a1a035-b9f7-4106-ad95-0b95ea7a5ee5",
   "metadata": {},
   "source": [
    "If the function is balanced, half of the outcomes is $1$ while the other half is $0$: \n",
    "\n",
    "![title](Images/balanced-function.png)"
   ]
  },
  {
   "cell_type": "markdown",
   "id": "7c2a8e21-c4ce-46bb-bc6c-31f5c3f1b81c",
   "metadata": {},
   "source": [
    "In the case of $f$ is balanced, $f(x)$ may have different combinations of $1$ and $0$, but the number of outcome of $1$ and $0$ is equal. "
   ]
  },
  {
   "cell_type": "markdown",
   "id": "05911134-fce1-46e7-b4fe-b4fe1a711477",
   "metadata": {},
   "source": [
    "#### Complexity in classical computers\n",
    "\n",
    "We will need to consider the worst case to find the complexity of the Deutsch-Jozsa algorithm in classical computers. Suppose that we query $\\frac{2^{n}}{2}$ times, and get the same output. At this moment, we have no any certainity about the function, which means it may be constant or balanced. However, if we query one more time, and observe the same output again, then the function is constant. Otherwise, it is balanced. That's why, we reach the solution in the $2^{n-1} + 1$ queries. It follows that the complexity is $\\mathcal{O}(2^{n})$.    "
   ]
  },
  {
   "cell_type": "markdown",
   "id": "4b54677c-e1a6-4603-b92f-722f7ad123ca",
   "metadata": {},
   "source": [
    "Through the quantum algorithm, we reduce the complexity to $\\mathcal{O}(1)$, which is an exponential speedup. "
   ]
  },
  {
   "cell_type": "markdown",
   "id": "da8247dc-ef8f-4b0b-8285-7897b82587c6",
   "metadata": {},
   "source": [
    "#### Quantum algorithm\n",
    "\n",
    "If the function is encoded as a quantum oracle, then the Deutsch-Jozsa algorithm allows us to determine whether the function is constant or balanced with only single query. "
   ]
  },
  {
   "cell_type": "markdown",
   "id": "bc79403a-caa2-46f6-a90e-c755cf25fda1",
   "metadata": {},
   "source": [
    "The circuit of Deutsch-Jozsa algorithm is illustrated as follows, \n",
    "\n",
    "![title](Images/dj-circuit.png)"
   ]
  },
  {
   "cell_type": "markdown",
   "id": "870b786d-1c44-4092-9908-794ba84a48a6",
   "metadata": {},
   "source": [
    "The initial state is $\\ket{\\psi_{0}}=\\ket{0}^{\\otimes n}\\ket{1}$. After applying the Hadamard gates to the all qubits, we obtain that \n",
    "\n",
    "$$ \\ket{\\psi_{1}} = H^{\\otimes n} \\ket{0}^{\\otimes n} H\\ket{1}$$ \n",
    "\n",
    "Clearly, the last qubit is converted into the $\\ket{-}$. What about the first $n$ qubits? How do we compute $H^{\\otimes n} \\ket{0}^{\\otimes n}$?\n",
    "\n",
    "Before the computation of $H^{\\otimes n} \\ket{0}^{\\otimes n}$, we will view the conditions for $n=2$ and $n=3$."
   ]
  },
  {
   "cell_type": "markdown",
   "id": "2de9dfab-84d2-440d-a7a5-eb2f3c7e56c4",
   "metadata": {},
   "source": [
    "For $n=2$, we have the equation,  \n",
    "\\begin{align}\n",
    "    H^{\\otimes 2} \\ket{0}^{\\otimes 2} &= H\\ket{0} \\otimes H\\ket{0} \\\\\n",
    "                                      &= \\frac{1}{\\sqrt{2}}(\\ket{0} + \\ket{1}) \\otimes \\frac{1}{\\sqrt{2}}(\\ket{0} + \\ket{1}) \\\\    \n",
    "                                      &= \\frac{1}{2}(\\ket{00} + \\ket{01} + \\ket{10} + \\ket{11}) \\\\\n",
    "\\end{align}\n"
   ]
  },
  {
   "cell_type": "markdown",
   "id": "2a70b4b2-d936-4beb-8305-0f119a07a9ed",
   "metadata": {},
   "source": [
    "If $n=3$, we have \n",
    "\\begin{align}\n",
    "    H^{\\otimes 3} \\ket{0}^{\\otimes 3} &= H\\ket{0} \\otimes H\\ket{0} \\otimes H\\ket{0} \\\\\n",
    "                                      &= \\frac{1}{\\sqrt{2}}(\\ket{0} + \\ket{1}) \\otimes \\frac{1}{\\sqrt{2}}(\\ket{0} + \\ket{1}) \\otimes \\frac{1}{\\sqrt{2}}(\\ket{0} + \\ket{1})\\\\\n",
    "                                      &= \\frac{1}{\\sqrt{2^{3}}}(\\ket{000} + \\ket{001} + \\ket{010} + \\ket{100} + \\ket{011} + \\ket{101} + \\ket{110} + \\ket{111}\\\\\n",
    "                                      &= \\frac{1}{\\sqrt{2^{3}}}\\sum_{x \\in \\{0,1\\}^{3}}\\ket{x}\n",
    "\\end{align}"
   ]
  },
  {
   "cell_type": "markdown",
   "id": "17de8a99-58ab-470b-ac96-b518d98c4af5",
   "metadata": {},
   "source": [
    "Generalizing the two conditions, we obtain the $H^{\\otimes n} \\ket{0}^{\\otimes n}$: \n",
    "\\begin{align}\n",
    "    H^{\\otimes n} \\ket{0}^{\\otimes n} = \\frac{1}{\\sqrt{2^{n}}}\\sum_{x \\in \\{0,1\\}^{n}}\\ket{x}\n",
    "\\end{align}"
   ]
  },
  {
   "cell_type": "markdown",
   "id": "92363907-7ee9-4eb1-9f42-41e977d85230",
   "metadata": {},
   "source": [
    "##### Applying the Hadamard gates\n",
    "\n",
    "Now, we can view our quantum circuit. The state $\\ket{\\psi_{1}}$ will be $$\\ket{\\psi_{1}} = \\frac{1}{\\sqrt{2^{n}}}\\sum_{x \\in \\{0,1\\}^{n}}\\ket{x} \\ket{-}$$"
   ]
  },
  {
   "cell_type": "markdown",
   "id": "3b0bd5d4-914c-4411-9c58-03b053430019",
   "metadata": {},
   "source": [
    "##### Unitary function\n",
    "\n",
    "Remind that the unitary function $U_{f}$ acts on the qubit $\\ket{x}$ such that $U_{f}\\ket{x} = (-1)^{f(x)}\\ket{x}$. Thus, after applying the unitary function, our state will be \n",
    "\n",
    "\\begin{align*}\n",
    "    \\ket{\\psi_{2}} &= U_{f}\\frac{1}{\\sqrt{2^{n}}}\\sum_{x \\in \\{0,1\\}^{n}}\\ket{x} \\ket{-}\\\\\\\\\n",
    "                   &= \\frac{1}{\\sqrt{2^{n}}}\\sum_{x \\in \\{0,1\\}^{n}}U_{f}\\ket{x} \\ket{-}\\\\\\\\\n",
    "                   &= \\frac{1}{\\sqrt{2^{n}}}\\sum_{x \\in \\{0,1\\}^{n}}(-1)^{f(x)}\\ket{x} \\ket{-}\n",
    "\\end{align*}"
   ]
  },
  {
   "cell_type": "markdown",
   "id": "85fbdc7b-bdbd-4c76-beae-88273b374d98",
   "metadata": {},
   "source": [
    "##### Obtaining $\\ket{\\psi_{3}}$\n",
    "\n",
    "Before measuring the first $n$ qubits, we apply $n$ Hadamard gates to them. Then, the $\\ket{\\psi_{3}}$ is written as \n",
    "$$\\ket{\\psi_{3}} = \\frac{1}{\\sqrt{2^{n}}}\\sum_{x \\in \\{0,1\\}^{n}}(-1)^{f(x)}H^{\\otimes n}\\ket{x} \\ket{-}$$"
   ]
  },
  {
   "cell_type": "markdown",
   "id": "1b804d1e-0894-44a8-a711-0a79e22f2948",
   "metadata": {},
   "source": [
    "How do we compute $H^{\\otimes n}\\ket{x}$?\n",
    "\n",
    "Note that $\\ket{x}$ is a *qudit*, which means it can be expressed as $\\ket{x} = \\ket{x_{1}} \\dots \\ket{x_{n}}$. Thus, \n",
    "$$H^{\\otimes n}\\ket{x} = H\\ket{x_{1}} \\dots H\\ket{x_{n}}$$ where $H\\ket{x_{i}}=\\frac{1}{\\sqrt{2}}(\\ket{0} + (-1)^{x_{i}}\\ket{1})$. We can verify this through the Hadamard basis elements; \n",
    "\\begin{align*}\n",
    "    H\\ket{0}=\\frac{1}{\\sqrt{2}}(\\ket{0} + (-1)^{0}\\ket{1}) =\\frac{1}{\\sqrt{2}}(\\ket{0} + \\ket{1})\\\\\n",
    "    H\\ket{1}=\\frac{1}{\\sqrt{2}}(\\ket{0} + (-1)^{1}\\ket{1}) =\\frac{1}{\\sqrt{2}}(\\ket{0} - \\ket{1})\n",
    "\\end{align*}"
   ]
  },
  {
   "cell_type": "markdown",
   "id": "d3b6dab5-f0eb-4e9a-8945-0b1561e6fb07",
   "metadata": {},
   "source": [
    "We will compute the $H^{\\otimes n}\\ket{x}$ by generalizing the condition of $n=3$, which means we will find the equation of $H^{\\otimes 3}\\ket{x}$ firstly. It is expressed as\n",
    "\n",
    "\\\n",
    "\\begin{align*}\n",
    "    H^{\\otimes 3}\\ket{x} &= H\\ket{x_{0}} \\otimes H\\ket{x_{1}} \\otimes H\\ket{x_{2}} \\\\\\\\\n",
    "                         &= \\frac{1}{\\sqrt{2}}(\\ket{0} + (-1)^{x_{0}}\\ket{1}) \\otimes \\frac{1}{\\sqrt{2}}(\\ket{0} + (-1)^{x_{1}}\\ket{1}) \\otimes \\frac{1}{\\sqrt{2}}(\\ket{0} + (-1)^{x_{2}}\\ket{1})\n",
    "\\end{align*}\n"
   ]
  },
  {
   "cell_type": "markdown",
   "id": "45ad6ee8-301b-4bad-bf76-983e93e1a899",
   "metadata": {},
   "source": [
    "We extend this equation as follows: \n",
    "\n",
    "\\begin{align*}\n",
    "    H^{\\otimes 3}\\ket{x} &= \\frac{1}{\\sqrt{2^{3}}}(\\ket{000} + (-1)^{x_{2}}\\ket{001} + (-1)^{x_{1}}\\ket{010} + (-1)^{x_{0}}\\ket{100} \\\\\\\\\n",
    "                        &+ (-1)^{x_{0}}(-1)^{x_{1}}\\ket{110} + (-1)^{x_{0}}(-1)^{x_{2}}\\ket{101} \\\\ \\\\\n",
    "                        &+ (-1)^{x_{1}}(-1)^{x_{2}}\\ket{011}) + (-1)^{x_{0}}(-1)^{x_{1}}(-1)^{x_{2}}\\ket{111})\n",
    "\\end{align*}"
   ]
  },
  {
   "cell_type": "markdown",
   "id": "4c410f84-d146-464e-8a86-83c90bd740f6",
   "metadata": {},
   "source": [
    "Arranging the equation again, we obtain that\n",
    "\n",
    "\\begin{align*}\n",
    "    H^{\\otimes 3}\\ket{x} &= \\frac{1}{\\sqrt{2^{3}}}(\\ket{000} + (-1)^{x_{2}}\\ket{001} + (-1)^{x_{1}}\\ket{010} + (-1)^{x_{0}}\\ket{100} \\\\\\\\\n",
    "                        &+ (-1)^{x_{0} + x_{1}}\\ket{110} + (-1)^{x_{0} + x_{2}}\\ket{101} \\\\ \\\\\n",
    "                        &+ (-1)^{x_{1} + x_{2}}\\ket{011}) + (-1)^{x_{0} + x_{1} + x_{2}}\\ket{111})\n",
    "\\end{align*}"
   ]
  },
  {
   "cell_type": "markdown",
   "id": "c7542188-058c-4aca-90f5-2ab715b79b83",
   "metadata": {},
   "source": [
    "Note that we can express the exponential values of $(-1)$ as a dot product of two vectors. For example, $x_{0} + x_{1} = x.\\ket{110}$. Thus, $H^{\\otimes 3}\\ket{x}$ can be arranged as follows,\n",
    "\n",
    "\\begin{align*}\n",
    "    H^{\\otimes 3}\\ket{x} &= \\frac{1}{\\sqrt{2^{3}}}(\\ket{000} + (-1)^{x.\\ket{001}}\\ket{001} + (-1)^{x.\\ket{010}}\\ket{010} + (-1)^{x.\\ket{100}}\\ket{100} \\\\\\\\\n",
    "                        &+ (-1)^{x.\\ket{110}}\\ket{110} + (-1)^{x.\\ket{101}}\\ket{101} \\\\ \\\\\n",
    "                        &+ (-1)^{x.\\ket{011}}\\ket{011}) + (-1)^{x.\\ket{111}}\\ket{111}) \\\\ \\\\\n",
    "                        &= \\frac{1}{\\sqrt{2^{3}}}\\sum_{z \\in \\{0,1\\}^{3}}(-1)^{x.z}\\ket{z} \n",
    "\\end{align*}"
   ]
  },
  {
   "cell_type": "markdown",
   "id": "e3d36dac-8c2f-479c-82aa-5b0d45bd9538",
   "metadata": {},
   "source": [
    "We generalize this equation as follows, \n",
    "\n",
    "\\begin{align}\n",
    "    H^{\\otimes n}\\ket{x} = \\frac{1}{\\sqrt{2^{n}}}\\sum_{z \\in \\{0,1\\}^{n}}(-1)^{x.z}\\ket{z} \n",
    "\\end{align}"
   ]
  },
  {
   "cell_type": "markdown",
   "id": "b95e55c9-f40b-4db7-a4b5-706974e9cd59",
   "metadata": {},
   "source": [
    "Now, we can express the state $\\ket{\\psi_{3}}$: \n",
    "\n",
    "\\begin{align*}\n",
    "    \\ket{\\psi_{3}} &= \\frac{1}{\\sqrt{2^{n}}}\\sum_{x \\in \\{0,1\\}^{n}}(-1)^{f(x)}\\frac{1}{\\sqrt{2^{n}}}\\sum_{z \\in \\{0,1\\}^{n}}(-1)^{x.z}\\ket{z}\\ket{-}\\\\\\\\\n",
    "                   &= \\frac{1}{2^{n}}\\sum_{x \\in \\{0,1\\}^{n}} \\sum_{z \\in \\{0,1\\}^{n}} (-1)^{f(x)+x.z}\\ket{z}\\ket{-} \n",
    "\\end{align*}"
   ]
  },
  {
   "cell_type": "markdown",
   "id": "4e8742a3-8828-40bd-9fe5-d3ae10156d06",
   "metadata": {},
   "source": [
    "##### Measuring the first $n$ qubits\n",
    "\n",
    "\n",
    "Finally, we will measure the first $n$ qubits. That's why we can ignore the $\\ket{-}$ anymore. \n",
    "\n",
    "Let us try to find the amplitude of the state $\\ket{0}^{\\otimes n}$. This investigation will give information about the behaviour of balanced and constant functions. \n",
    "\n",
    "Assume that $z=\\ket{0}^{\\otimes n} = \\ket{00 \\dots 0}$. Then, $$\\ket{\\psi_{3}} = \\frac{1}{2^{n}}\\sum_{x \\in \\{0,1\\}^{n}} \\sum_{z \\in \\{0,1\\}^{n}} (-1)^{f(x)+x.00...00}\\ket{0 \\dots 0}$$ Since $x.00...00 = 0$, our quantum state will be  $$ \\ket{\\psi_{3}} = \\frac{1}{2^{n}}\\sum_{x \\in \\{0,1\\}^{n}}  (-1)^{f(x)}\\ket{0 \\dots 0}$$. "
   ]
  },
  {
   "cell_type": "markdown",
   "id": "ceb2163d-ea73-4132-beb3-8be6f441e76e",
   "metadata": {},
   "source": [
    "Suppose that $f(x)$ is constant. Remind that if $f$ is constant, it is equal to $1$ or $0$ for all possible inputs. \n",
    "\n",
    "Let $A$ be the amplitude of the state $\\ket{0 \\dots 0}$. If $f(x)=0$, the amplitude $A$ is expressed as follows, \n",
    "\\begin{align}\n",
    "    A &= \\frac{1}{2^{n}}\\sum_{x \\in \\{0,1\\}^{n}} 1 \\\\\n",
    "      &= \\frac{1}{2^{n}} 2^{n} \\\\\n",
    "      &= 1 \n",
    "\\end{align}\n",
    "\n",
    "If $f(x)=1$, the amplitude will be:\n",
    "\n",
    "\\begin{align}\n",
    "    A &= \\frac{1}{2^{n}}\\sum_{x \\in \\{0,1\\}^{n}} (-1) \\\\\n",
    "      &= \\frac{1}{2^{n}} 2^{n} (-1) \\\\\n",
    "      &= -1 \n",
    "\\end{align}\n",
    "\n",
    "It follows that the amplitude is $\\pm 1$ if $f$ is constant. "
   ]
  },
  {
   "cell_type": "markdown",
   "id": "e6c8f0bf-5c8d-483d-8dfe-fef95ef50592",
   "metadata": {},
   "source": [
    "Consider the second case: $f$ is balanced. It means that the number of $f(x)=0$ and $f(x)=1$ is equal to each other for all possible $2^{n}$ inputs. In the case of $f$ is balanced, the amplitude will be written as\n",
    "\n",
    "\\begin{align}\n",
    "    A &= \\frac{1}{2^{n}}\\sum_{x \\in \\{0,1\\}^{n}} (-1)^{f(x)} \\\\\n",
    "      &= \\frac{1}{2^{n}} ((-1)^{0} + (-1)^{1} + ... + (-1)^{0} + (-1)^{1}) \\\\\n",
    "      &= 0\n",
    "\\end{align}\n",
    "\n",
    "Since the numbers of $f(x)=0$ and $f(x)=1$ is equal, the sum of the values of $(-1)^{0}$ and $(-1)^{1}$ is $0$. \n",
    "\n",
    "It concludes that if $f$ is balanced, then the amplitude $A$ is $0$. It means that the constant of the $\\ket{0 \\dots 0}$ is $0$. Therefore, we cannot measure the state. "
   ]
  },
  {
   "cell_type": "markdown",
   "id": "fb69e69c-dab1-45ea-b568-2d915cf01a53",
   "metadata": {},
   "source": [
    "If $f(x)$ is constant, the amplitude of $\\ket{0 \\dots 0}$ is $\\pm 1$. Therefore, we can say that if we measure $\\ket{0 \\dots 0}$, then $f$ is constant.\n",
    "\n",
    "If $f(x)$ is balanced, the amplitude of $\\ket{0 \\dots 0}$ is $0$. Therefore, we can say that if we cannot measure $\\ket{0 \\dots 0}$, then $f$ is balanced. \n",
    "\n",
    "It concludes that we find the solution by only single query through the quantum algorithm, which leads to the complexity reduced to $\\mathcal{O}(1)$ from $\\mathcal{O}(2^{n})$. "
   ]
  },
  {
   "cell_type": "markdown",
   "id": "e57bb564-b159-4a69-a6e3-91932212be09",
   "metadata": {},
   "source": [
    "#### Conclusion\n",
    "\n",
    "In this notebook, we introduced the Deutsch-Jozsa algorithm:\n",
    "\n",
    "- Definition of the problem and Deutsch algorithm\n",
    "- Quantum and classical complexities of the two algorithms.\n",
    "- Key quantum operations such as measurement and unitary transformations.\n",
    "\n",
    "Through the Deutsch-Jozsa, we indicated that the quantum architecture increased the speed of the algorithm exponentially. "
   ]
  }
 ],
 "metadata": {
  "kernelspec": {
   "display_name": "Python [conda env:base] *",
   "language": "python",
   "name": "conda-base-py"
  },
  "language_info": {
   "codemirror_mode": {
    "name": "ipython",
    "version": 3
   },
   "file_extension": ".py",
   "mimetype": "text/x-python",
   "name": "python",
   "nbconvert_exporter": "python",
   "pygments_lexer": "ipython3",
   "version": "3.12.7"
  }
 },
 "nbformat": 4,
 "nbformat_minor": 5
}
